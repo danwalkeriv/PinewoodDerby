{
 "cells": [
  {
   "cell_type": "markdown",
   "metadata": {},
   "source": [
    "This code is used to generate a set of races using the a race scheduling algorithm patterned after the Stearns (i.e., __Chaotic__) race scheduling method. It only works for a 2 lane raingutter regatta or pinewood derby race. The criteria are simple: make sure that each boy races the same number of times, make sure that boys never race in 2 consecutive races, and make sure that no 2 boys races each other more than once, and make sure that boys race the same number of times in each of the 2 lanes (all while being as random as possible)."
   ]
  },
  {
   "cell_type": "code",
   "execution_count": 61,
   "metadata": {
    "collapsed": false
   },
   "outputs": [],
   "source": [
    "from collections import Counter\n",
    "import random\n",
    "\n",
    "def hasConsecutiveRepeats(boys):\n",
    "    last = \"\"\n",
    "    for b in boys:\n",
    "        if b == last:\n",
    "            return True\n",
    "        last = b\n",
    "    return False\n",
    "\n",
    "def sortedTuple(b1, b2):\n",
    "    if b1 < b2:\n",
    "        return (b1,b2)\n",
    "    return (b2,b1)\n",
    "\n",
    "# Depth-first search for a lane0 configuration that \"works\"\n",
    "def fillInLane1(lane0, c, pairs, i, lane1):\n",
    "    cands = [k for k,count in c.items() if count > 0]\n",
    "    random.shuffle(cands)\n",
    "    llane1 = lane1\n",
    "    for candBoy in cands:\n",
    "        p = sortedTuple(candBoy, lane0[i])\n",
    "        if candBoy == lane0[i] or ((i > 0 and candBoy == lane0[i-1])\n",
    "                                    or (i>0 and candBoy == llane1[-1])\n",
    "                                    or (i< (len(lane0)-1) and candBoy == lane0[i+1])\n",
    "                                    or p in pairs):\n",
    "            pass\n",
    "        else:\n",
    "            # Build new frontier state to push onto the stack\n",
    "            llane1.append(candBoy)\n",
    "            \n",
    "            if len(llane1) != i+1:\n",
    "                print(\"i = {}, but len(lane1) = {}\".format(i, len(lane1)))\n",
    "            # If we have added the last boy and fulfilled our destiny, return lane1\n",
    "            c[candBoy] -= 1\n",
    "            \n",
    "            pairs.add(p)\n",
    "            if(len(lane0) == len(llane1)):\n",
    "                return llane1\n",
    "            e = []\n",
    "            e.extend(llane1)\n",
    "            l1 = fillInLane1(lane0, c, pairs, i+1, e)\n",
    "            if l1:\n",
    "                return l1\n",
    "\n",
    "            llane1 = llane1[:-1]\n",
    "            c[candBoy] += 1\n",
    "            pairs.remove(p)\n",
    "    return []\n",
    "\n",
    "def fillInLane2(lane0, lane1, boys, numRacesEach, lane2):\n",
    "    cands = boys * numRacesEach\n",
    "    random.shuffle(cands)\n",
    "    \n",
    "    isGood = False\n",
    "    while not isGood:\n",
    "        isGood = True\n",
    "        for i in range(0, len(cands)):\n",
    "            candBoy = cands[i]\n",
    "            # Check each item for a bad state, if there is a problem,\n",
    "            # randomly swap until there aren't any more problems\n",
    "            if (candBoy == lane0[i] or candBoy == lane1[i]\n",
    "                                    or (i > 0 and (candBoy == lane0[i-1] or candBoy == lane1[i-1] or candBoy == cands[i-1]))\n",
    "                                    or (i< (len(lane0)-1) and (candBoy == lane0[i+1] or candBoy == lane1[i+1]))):\n",
    "                # Swap the \"bad\" candidate with a random location\n",
    "                r = random.randint(0, len(cands)-1) \n",
    "                t = cands[i]\n",
    "                cands[i] = cands[r]\n",
    "                cands[r] = t\n",
    "                isGood = False\n",
    "    return cands\n",
    "    \n",
    "def buildRaces(boys, numRacesEach=3):\n",
    "    \"\"\"numRacesEach is the number of times the boys will race in\n",
    "    each lane.\"\"\"\n",
    "    pairs = set()\n",
    "    lane0 = boys * numRacesEach\n",
    "    random.shuffle(lane0)\n",
    "    lane1 = []\n",
    "    # Get a shuffled list of boys for the lane 0 contestants\n",
    "    while hasConsecutiveRepeats(lane0):\n",
    "        random.shuffle(lane0)\n",
    "    c = Counter(lane0)\n",
    "        \n",
    "    lane1 = fillInLane1(lane0, c, pairs, 0, lane1)\n",
    "    \n",
    "    lane2 = []\n",
    "    lane2 = fillInLane2(lane0, lane1, boys, numRacesEach, lane2)\n",
    "\n",
    "    print(Counter(lane0))\n",
    "    print(Counter(lane1))\n",
    "    print(Counter(lane2))\n",
    "\n",
    "    return(list(zip(lane0, lane1, lane2)))"
   ]
  },
  {
   "cell_type": "markdown",
   "metadata": {},
   "source": [
    "Type the names of the boys inside the quotation marks. Use commas to separate the names, don't include spaces unless the space is part of the boy's name."
   ]
  },
  {
   "cell_type": "code",
   "execution_count": 69,
   "metadata": {
    "collapsed": false
   },
   "outputs": [],
   "source": [
    "boys = \"Danny,Ian,David,Stirling,Braxton,Edgar,Ryan,Zach,Noah,Michael,Torrin\".split(\",\")"
   ]
  },
  {
   "cell_type": "markdown",
   "metadata": {},
   "source": [
    "The output of the following command will be the list of races. The races are listed as pairs of boys names \"(A,B)\" where A is the name of the boy that should use Lane 0 and B is the name of the boy who should use Lane 1. You can change the second parameter of buildRaces to a higher number if you would like, though there is a theoretical max (n -1, where n is the number of boys)."
   ]
  },
  {
   "cell_type": "code",
   "execution_count": 70,
   "metadata": {
    "collapsed": false
   },
   "outputs": [
    {
     "name": "stdout",
     "output_type": "stream",
     "text": [
      "Counter({'Zach': 2, 'Ryan': 2, 'Noah': 2, 'Torrin': 2, 'Edgar': 2, 'Braxton': 2, 'Danny': 2, 'David': 2, 'Stirling': 2, 'Michael': 2, 'Ian': 2})\n",
      "Counter({'Edgar': 2, 'Zach': 2, 'Ryan': 2, 'Noah': 2, 'Torrin': 2, 'Michael': 2, 'Danny': 2, 'David': 2, 'Stirling': 2, 'Braxton': 2, 'Ian': 2})\n",
      "Counter({'Danny': 2, 'Zach': 2, 'Ryan': 2, 'Noah': 2, 'Torrin': 2, 'Michael': 2, 'Edgar': 2, 'David': 2, 'Stirling': 2, 'Braxton': 2, 'Ian': 2})\n",
      "The following 22 races will be scheduled.\n"
     ]
    },
    {
     "data": {
      "text/plain": [
       "[('Michael', 'Torrin', 'Noah'),\n",
       " ('Braxton', 'Stirling', 'Ian'),\n",
       " ('Noah', 'Ryan', 'Edgar'),\n",
       " ('Ian', 'Braxton', 'David'),\n",
       " ('Danny', 'Ryan', 'Torrin'),\n",
       " ('Zach', 'Michael', 'David'),\n",
       " ('Edgar', 'Noah', 'Stirling'),\n",
       " ('Ryan', 'Ian', 'Danny'),\n",
       " ('Braxton', 'Torrin', 'Noah'),\n",
       " ('Stirling', 'Danny', 'Ian'),\n",
       " ('Noah', 'Braxton', 'Zach'),\n",
       " ('David', 'Edgar', 'Ryan'),\n",
       " ('Zach', 'Danny', 'Michael'),\n",
       " ('Edgar', 'Ian', 'Stirling'),\n",
       " ('Danny', 'David', 'Torrin'),\n",
       " ('Michael', 'Noah', 'Braxton'),\n",
       " ('Stirling', 'Zach', 'Edgar'),\n",
       " ('David', 'Michael', 'Ryan'),\n",
       " ('Torrin', 'Stirling', 'Danny'),\n",
       " ('Ian', 'Zach', 'Michael'),\n",
       " ('Torrin', 'David', 'Braxton'),\n",
       " ('Ryan', 'Edgar', 'Zach')]"
      ]
     },
     "execution_count": 70,
     "metadata": {},
     "output_type": "execute_result"
    }
   ],
   "source": [
    "races = buildRaces(boys, 2)\n",
    "print(\"The following {} races will be scheduled.\".format(len(races)))\n",
    "races"
   ]
  },
  {
   "cell_type": "markdown",
   "metadata": {},
   "source": [
    "Copy and paste everything above after the \"Out[N]:\", beginning with the open square bracket \"[\" through the closing square bracket. Paste below after the equals sign. As the races run, change the -1s to the lane number of the winner. So, for race (A,B), if A wins, then make sure that line of the outcomes reads (A,B,0)"
   ]
  },
  {
   "cell_type": "code",
   "execution_count": 73,
   "metadata": {
    "collapsed": false
   },
   "outputs": [],
   "source": [
    "outcomes = [('Michael', 'Torrin', 'Noah',1,0),\n",
    " ('Braxton', 'Stirling', 'Ian',0,2),\n",
    " ('Noah', 'Ryan', 'Edgar',2,1),\n",
    " ('Ian', 'Braxton', 'David',1,0),\n",
    " ('Danny', 'Ryan', 'Torrin',1,0),\n",
    " ('Zach', 'Michael', 'David',0,1),\n",
    " ('Edgar', 'Noah', 'Stirling',0,1),\n",
    " ('Ryan', 'Ian', 'Danny',2,0),\n",
    " ('Braxton', 'Torrin', 'Noah',0,1),\n",
    " ('Stirling', 'Danny', 'Ian',2,1),\n",
    " ('Noah', 'Braxton', 'Zach',1,2),\n",
    " ('David', 'Edgar', 'Ryan',0,2),\n",
    " ('Zach', 'Danny', 'Michael',1,2),\n",
    " ('Edgar', 'Ian', 'Stirling',0,1),\n",
    " ('Danny', 'David', 'Torrin',0,2),\n",
    " ('Michael', 'Noah', 'Braxton',2,0),\n",
    " ('Stirling', 'Zach', 'Edgar',1,2),\n",
    " ('David', 'Michael', 'Ryan',1,2),\n",
    " ('Torrin', 'Stirling', 'Danny',2,0),\n",
    " ('Ian', 'Zach', 'Michael',1,0),\n",
    " ('Torrin', 'David', 'Braxton',2,0),\n",
    " ('Ryan', 'Edgar', 'Zach',2,0)]"
   ]
  },
  {
   "cell_type": "code",
   "execution_count": 74,
   "metadata": {
    "collapsed": false
   },
   "outputs": [
    {
     "name": "stdout",
     "output_type": "stream",
     "text": [
      "Counter({'Braxton': 6, 'Zach': 4, 'Danny': 4, 'Edgar': 3, 'Ryan': 1, 'Torrin': 1, 'David': 1, 'Michael': 1, 'Ian': 1})\n",
      "Counter({'Ryan': 5, 'Torrin': 4, 'Michael': 4, 'Ian': 4, 'Danny': 2, 'Zach': 1, 'Noah': 1, 'Edgar': 1})\n"
     ]
    }
   ],
   "source": [
    "winCounter = Counter()\n",
    "secondCounter = Counter()\n",
    "laneCounter = Counter()\n",
    "laneCounter2 = Counter()\n",
    "for outcome in outcomes:\n",
    "    winner = outcome[outcome[-2]]\n",
    "    second = outcome[outcome[-1]]\n",
    "    laneCounter[outcome[-2]] += 1\n",
    "    laneCounter[outcome[-1]] += 1\n",
    "    winCounter[winner] += 1\n",
    "    secondCounter[second] += 1\n",
    "print(winCounter)\n",
    "print(secondCounter)"
   ]
  },
  {
   "cell_type": "code",
   "execution_count": 76,
   "metadata": {
    "collapsed": false
   },
   "outputs": [
    {
     "data": {
      "text/plain": [
       "Counter({'Braxton': 12, 'Danny': 8, 'Zach': 8, 'Edgar': 6, 'Ryan': 2, 'Torrin': 2, 'David': 2, 'Michael': 2, 'Ian': 2})"
      ]
     },
     "execution_count": 76,
     "metadata": {},
     "output_type": "execute_result"
    }
   ],
   "source": [
    "scores = Counter()\n",
    "for k,v in winCounter.items():\n",
    "    scores[k] = v *2\n",
    "scores"
   ]
  },
  {
   "cell_type": "code",
   "execution_count": 77,
   "metadata": {
    "collapsed": false
   },
   "outputs": [
    {
     "data": {
      "text/plain": [
       "Counter({'Braxton': 12, 'Danny': 10, 'Zach': 9, 'Edgar': 7, 'Ryan': 7, 'Torrin': 6, 'Michael': 6, 'Ian': 6, 'David': 2, 'Noah': 1})"
      ]
     },
     "execution_count": 77,
     "metadata": {},
     "output_type": "execute_result"
    }
   ],
   "source": [
    "scores.update(secondCounter)\n",
    "scores"
   ]
  },
  {
   "cell_type": "code",
   "execution_count": 78,
   "metadata": {
    "collapsed": false
   },
   "outputs": [
    {
     "data": {
      "text/plain": [
       "Counter({0: 16, 1: 14, 2: 14})"
      ]
     },
     "execution_count": 78,
     "metadata": {},
     "output_type": "execute_result"
    }
   ],
   "source": [
    "laneCounter"
   ]
  },
  {
   "cell_type": "code",
   "execution_count": null,
   "metadata": {
    "collapsed": false
   },
   "outputs": [],
   "source": []
  },
  {
   "cell_type": "code",
   "execution_count": null,
   "metadata": {
    "collapsed": true
   },
   "outputs": [],
   "source": []
  }
 ],
 "metadata": {
  "kernelspec": {
   "display_name": "Python 3",
   "language": "python",
   "name": "python3"
  },
  "language_info": {
   "codemirror_mode": {
    "name": "ipython",
    "version": 3
   },
   "file_extension": ".py",
   "mimetype": "text/x-python",
   "name": "python",
   "nbconvert_exporter": "python",
   "pygments_lexer": "ipython3",
   "version": "3.4.3"
  }
 },
 "nbformat": 4,
 "nbformat_minor": 0
}
